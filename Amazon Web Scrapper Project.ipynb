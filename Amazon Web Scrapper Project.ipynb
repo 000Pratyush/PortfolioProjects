{
 "cells": [
  {
   "cell_type": "code",
   "execution_count": 64,
   "id": "997ba55c",
   "metadata": {},
   "outputs": [],
   "source": [
    "# import libraries\n",
    "\n",
    "from bs4 import BeautifulSoup\n",
    "import  requests\n",
    "import time\n",
    "import datetime\n",
    "\n",
    "import smtplib"
   ]
  },
  {
   "cell_type": "code",
   "execution_count": 28,
   "id": "779467cf",
   "metadata": {},
   "outputs": [
    {
     "name": "stdout",
     "output_type": "stream",
     "text": [
      "\n",
      "              DUDEME AWS Half Sleeve T Shirt for Men | Round Neck Cotton T Shirt | Programmer T Shirt | Developer T Shirt | Coding T Shirt for Coders\n",
      "             \n",
      "\n",
      "                            499\n",
      "                            \n",
      "                             .\n",
      "                            \n",
      "\n"
     ]
    }
   ],
   "source": [
    "# connenct to the website\n",
    "\n",
    "URL = 'https://www.amazon.in/DUDEME-Sleeve-Cotton-Programmer-Developer/dp/B08RWS97G2/ref=sr_1_6?crid=17WHLLLH4G2ZR&keywords=coding%2Btshirt&qid=1684471678&sprefix=coding%2Btshirt%2Caps%2C330&sr=8-6&th=1&psc=1'\n",
    "    \n",
    "headers = {\"User-Agent\": \"Mozilla/5.0 (Windows NT 10.0; Win64; x64) AppleWebKit/537.36 (KHTML, like Gecko) Chrome/113.0.0.0 Safari/537.36\", \"Accept-Encoding\":\"gzip, deflate\", \"Accept\":\"text/html,application/xhtml+xml,application/xml;q=0.9,*/*;q=0.8\", \"DNT\":\"1\",\"Connection\":\"close\", \"Upgrade-Insecure-Requests\":\"1\"}\n",
    "    \n",
    "page = requests.get(URL, headers=headers) \n",
    "\n",
    "soup1 = BeautifulSoup(page.content, \"html.parser\")\n",
    "\n",
    "soup2 = BeautifulSoup(soup1.prettify(), \"html.parser\")\n",
    "\n",
    "title = soup2.find(id ='productTitle').get_text()\n",
    "\n",
    "price = soup2.find(class_ =\"a-price-whole\").get_text()\n",
    "\n",
    "print(title)\n",
    "print(price)\n",
    "\n",
    "\n",
    "    \n",
    "    \n",
    "    \n",
    "    \n",
    "    \n",
    "    \n",
    "    \n",
    "    \n",
    "    \n",
    "    \n",
    "    "
   ]
  },
  {
   "cell_type": "code",
   "execution_count": 35,
   "id": "1fe62d34",
   "metadata": {},
   "outputs": [
    {
     "name": "stdout",
     "output_type": "stream",
     "text": [
      "DUDEME AWS Half Sleeve T Shirt\n",
      "499\n",
      "                            \n",
      "                             .\n"
     ]
    },
    {
     "data": {
      "text/plain": [
       "str"
      ]
     },
     "execution_count": 35,
     "metadata": {},
     "output_type": "execute_result"
    }
   ],
   "source": [
    "price = price.strip()\n",
    "title = title.strip()[:30]\n",
    "print(title)\n",
    "print(price)\n",
    "type(price)"
   ]
  },
  {
   "cell_type": "code",
   "execution_count": 41,
   "id": "a69dd16d",
   "metadata": {},
   "outputs": [
    {
     "name": "stdout",
     "output_type": "stream",
     "text": [
      "2023-05-26\n"
     ]
    }
   ],
   "source": [
    "import datetime\n",
    "\n",
    "today = datetime.date.today()\n",
    "\n",
    "print(today)"
   ]
  },
  {
   "cell_type": "code",
   "execution_count": 44,
   "id": "39261c07",
   "metadata": {},
   "outputs": [],
   "source": [
    "import csv\n",
    "\n",
    "header = ['Title', 'Price', 'Date']\n",
    "data = [title, price, today]\n",
    "\n",
    "with open('AmazonWebScapperDataset.csv', 'w', newline='', encoding='UTF8') as f:\n",
    "    writer = csv.writer(f)\n",
    "    writer.writerow(header)\n",
    "    writer.writerow(data)\n",
    "\n",
    "\n",
    "\n"
   ]
  },
  {
   "cell_type": "code",
   "execution_count": 51,
   "id": "ab5d442b",
   "metadata": {},
   "outputs": [
    {
     "name": "stdout",
     "output_type": "stream",
     "text": [
      "                            Title  \\\n",
      "0  DUDEME AWS Half Sleeve T Shirt   \n",
      "1  DUDEME AWS Half Sleeve T Shirt   \n",
      "2  DUDEME AWS Half Sleeve T Shirt   \n",
      "3  DUDEME AWS Half Sleeve T Shirt   \n",
      "\n",
      "                                               Price        Date  \n",
      "0  499\\n                            \\n           ...  26-05-2023  \n",
      "1  499\\n                            \\n           ...  2023-05-26  \n",
      "2  499\\n                            \\n           ...  2023-05-26  \n",
      "3  499\\n                            \\n           ...  2023-05-26  \n"
     ]
    }
   ],
   "source": [
    "import pandas as pd\n",
    "\n",
    "df = pd.read_csv(r'C:\\Users\\Pratyush\\AmazonWebScapperDataset.csv')\n",
    "\n",
    "print(df)\n"
   ]
  },
  {
   "cell_type": "code",
   "execution_count": 50,
   "id": "a91bad3d",
   "metadata": {},
   "outputs": [],
   "source": [
    "# appending data to the csv\n",
    "\n",
    "with open('AmazonWebScapperDataset.csv', 'a+', newline='', encoding='UTF8') as f:\n",
    "    writer = csv.writer(f)\n",
    "    writer.writerow(data)\n",
    "\n",
    "\n"
   ]
  },
  {
   "cell_type": "code",
   "execution_count": 52,
   "id": "9494ee12",
   "metadata": {},
   "outputs": [],
   "source": [
    "\n",
    "def check_price():\n",
    "    URL = 'https://www.amazon.in/DUDEME-Sleeve-Cotton-Programmer-Developer/dp/B08RWS97G2/ref=sr_1_6?crid=17WHLLLH4G2ZR&keywords=coding%2Btshirt&qid=1684471678&sprefix=coding%2Btshirt%2Caps%2C330&sr=8-6&th=1&psc=1'\n",
    "    \n",
    "    headers = {\"User-Agent\": \"Mozilla/5.0 (Windows NT 10.0; Win64; x64) AppleWebKit/537.36 (KHTML, like Gecko) Chrome/113.0.0.0 Safari/537.36\", \"Accept-Encoding\":\"gzip, deflate\", \"Accept\":\"text/html,application/xhtml+xml,application/xml;q=0.9,*/*;q=0.8\", \"DNT\":\"1\",\"Connection\":\"close\", \"Upgrade-Insecure-Requests\":\"1\"}\n",
    "    \n",
    "    page = requests.get(URL, headers=headers) \n",
    "\n",
    "    soup1 = BeautifulSoup(page.content, \"html.parser\")\n",
    "\n",
    "    soup2 = BeautifulSoup(soup1.prettify(), \"html.parser\")\n",
    "\n",
    "    title = soup2.find(id ='productTitle').get_text()\n",
    "\n",
    "    price = soup2.find(class_ =\"a-price-whole\").get_text()\n",
    "    \n",
    "    price = price.strip()\n",
    "    title = title.strip()[:30]\n",
    "    \n",
    "    import datetime\n",
    "\n",
    "    today = datetime.date.today()\n",
    "    \n",
    "    import csv\n",
    "\n",
    "    header = ['Title', 'Price', 'Date']\n",
    "    data = [title, price, today]\n",
    "    \n",
    "    with open('AmazonWebScapperDataset.csv', 'a+', newline='', encoding='UTF8') as f:\n",
    "        writer = csv.writer(f)\n",
    "        writer.writerow(data)\n",
    "\n",
    "\n",
    "    "
   ]
  },
  {
   "cell_type": "code",
   "execution_count": null,
   "id": "1cacb841",
   "metadata": {},
   "outputs": [],
   "source": [
    "while(True):\n",
    "    check_price()\n",
    "    time.sleep(86400)"
   ]
  },
  {
   "cell_type": "code",
   "execution_count": 63,
   "id": "69d086fc",
   "metadata": {},
   "outputs": [
    {
     "name": "stdout",
     "output_type": "stream",
     "text": [
      "                            Title  \\\n",
      "0  DUDEME AWS Half Sleeve T Shirt   \n",
      "1  DUDEME AWS Half Sleeve T Shirt   \n",
      "2  DUDEME AWS Half Sleeve T Shirt   \n",
      "3  DUDEME AWS Half Sleeve T Shirt   \n",
      "4  DUDEME AWS Half Sleeve T Shirt   \n",
      "5  DUDEME AWS Half Sleeve T Shirt   \n",
      "6  DUDEME AWS Half Sleeve T Shirt   \n",
      "7  DUDEME AWS Half Sleeve T Shirt   \n",
      "8  DUDEME AWS Half Sleeve T Shirt   \n",
      "9  DUDEME AWS Half Sleeve T Shirt   \n",
      "\n",
      "                                               Price        Date  \n",
      "0  499\\n                            \\n           ...  26-05-2023  \n",
      "1  499\\n                            \\n           ...  2023-05-26  \n",
      "2  499\\n                            \\n           ...  2023-05-26  \n",
      "3  499\\n                            \\n           ...  2023-05-26  \n",
      "4                                                499  2023-05-26  \n",
      "5  499\\n                            \\n           ...  2023-05-26  \n",
      "6                                                499  2023-05-26  \n",
      "7                                                499  2023-05-26  \n",
      "8  499\\n                            \\n           ...  2023-05-26  \n",
      "9  499\\n                            \\n           ...  2023-05-26  \n"
     ]
    }
   ],
   "source": [
    "import pandas as pd\n",
    "\n",
    "df = pd.read_csv(r'C:\\Users\\Pratyush\\AmazonWebScapperDataset.csv')\n",
    "\n",
    "print(df)"
   ]
  },
  {
   "cell_type": "code",
   "execution_count": null,
   "id": "1fe37ff9",
   "metadata": {},
   "outputs": [],
   "source": []
  },
  {
   "cell_type": "code",
   "execution_count": null,
   "id": "2264d819",
   "metadata": {},
   "outputs": [],
   "source": []
  },
  {
   "cell_type": "code",
   "execution_count": null,
   "id": "389df43f",
   "metadata": {},
   "outputs": [],
   "source": []
  },
  {
   "cell_type": "code",
   "execution_count": null,
   "id": "fb814ee6",
   "metadata": {},
   "outputs": [],
   "source": []
  },
  {
   "cell_type": "code",
   "execution_count": null,
   "id": "bb6f84f4",
   "metadata": {},
   "outputs": [],
   "source": []
  }
 ],
 "metadata": {
  "kernelspec": {
   "display_name": "Python 3 (ipykernel)",
   "language": "python",
   "name": "python3"
  },
  "language_info": {
   "codemirror_mode": {
    "name": "ipython",
    "version": 3
   },
   "file_extension": ".py",
   "mimetype": "text/x-python",
   "name": "python",
   "nbconvert_exporter": "python",
   "pygments_lexer": "ipython3",
   "version": "3.10.9"
  }
 },
 "nbformat": 4,
 "nbformat_minor": 5
}
